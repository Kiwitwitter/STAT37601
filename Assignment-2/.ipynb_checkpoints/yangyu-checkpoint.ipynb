{
 "cells": [
  {
   "cell_type": "code",
   "execution_count": 58,
   "metadata": {},
   "outputs": [],
   "source": [
    "import pickle\n",
    "import numpy as np\n",
    "import matplotlib.pyplot as plt\n",
    "import string\n",
    "import re"
   ]
  },
  {
   "cell_type": "code",
   "execution_count": 59,
   "metadata": {},
   "outputs": [],
   "source": [
    "f=open('project/cmsc25025/sou/speeches.pkl','rb')\n",
    "speeches=pickle.load(f)\n",
    "lens=len(speeches)\n",
    "spenew = list()\n",
    "for i in range(lens):\n",
    "    sentence = speeches[i].text\n",
    "    spenew.append(sentence)"
   ]
  },
  {
   "cell_type": "code",
   "execution_count": 60,
   "metadata": {},
   "outputs": [],
   "source": [
    "def clean_and_split(s):\n",
    "    # convert to lowercase and translate all hyphens and\n",
    "    # punctuation to whitespace\n",
    "    translator = str.maketrans(dict.fromkeys(string.punctuation))\n",
    "    s = s.replace(\"-\",\" \").translate(translator).lower()\n",
    "    # replace \\r\\n and \\x95\n",
    "    s = re.sub(\"(\\r\\n)+\",\" \",s)\n",
    "    s = re.sub(\"(\\x95)+\",\" \",s)\n",
    "    # replace whitespace substrings with one whitespace and remove\n",
    "    # leading/trailing whitespaces\n",
    "    s = re.sub(\" +\",\" \",s.strip())\n",
    "    return s.split(\" \")"
   ]
  },
  {
   "cell_type": "code",
   "execution_count": 61,
   "metadata": {},
   "outputs": [],
   "source": [
    "def sort_dict(dic):\n",
    "    d = dict()\n",
    "    a = sorted(dic.items(), key=lambda e:e[1], reverse=True)\n",
    "    for i in a:\n",
    "        d[i[0]] = i[1]\n",
    "    return d"
   ]
  },
  {
   "cell_type": "code",
   "execution_count": null,
   "metadata": {},
   "outputs": [],
   "source": [
    "word_dict = dict()\n",
    "def add_word(sou):\n",
    "    for i in sou:\n",
    "        if i in word_dict.keys():\n",
    "            word_dict[i] = word_dict[i] + 1\n",
    "        else:\n",
    "            word_dict[i] = 1"
   ]
  }
 ],
 "metadata": {
  "kernelspec": {
   "display_name": "Python 3",
   "language": "python",
   "name": "python3"
  },
  "language_info": {
   "codemirror_mode": {
    "name": "ipython",
    "version": 3
   },
   "file_extension": ".py",
   "mimetype": "text/x-python",
   "name": "python",
   "nbconvert_exporter": "python",
   "pygments_lexer": "ipython3",
   "version": "3.6.4"
  }
 },
 "nbformat": 4,
 "nbformat_minor": 2
}
